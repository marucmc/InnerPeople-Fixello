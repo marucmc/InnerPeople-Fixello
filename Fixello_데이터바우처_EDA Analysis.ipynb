{
 "cells": [
  {
   "cell_type": "code",
   "execution_count": 1,
   "id": "2345651c",
   "metadata": {},
   "outputs": [],
   "source": [
    "import pandas as pd\n",
    "import numpy as np\n",
    "import matplotlib.pyplot as plt\n",
    "plt.style.use('seaborn-white')\n",
    "\n",
    "import os"
   ]
  },
  {
   "cell_type": "code",
   "execution_count": 2,
   "id": "32719ba2",
   "metadata": {},
   "outputs": [],
   "source": [
    "import matplotlib.font_manager as fm\n",
    "import matplotlib as mpl\n",
    "\n",
    "plt.rc('font', family='NanumGothic')"
   ]
  },
  {
   "cell_type": "code",
   "execution_count": null,
   "id": "dace78d4",
   "metadata": {},
   "outputs": [],
   "source": []
  },
  {
   "cell_type": "code",
   "execution_count": 3,
   "id": "a99a5cff",
   "metadata": {},
   "outputs": [
    {
     "data": {
      "text/plain": [
       "'C:\\\\Users\\\\junoh\\\\OneDrive\\\\마루경영지도사무소\\\\성남산업진흥원'"
      ]
     },
     "execution_count": 3,
     "metadata": {},
     "output_type": "execute_result"
    }
   ],
   "source": [
    "os.getcwd()"
   ]
  },
  {
   "cell_type": "code",
   "execution_count": 4,
   "id": "121a1448",
   "metadata": {},
   "outputs": [],
   "source": [
    "dt = pd.read_csv('국민건강보험공단_건강검진정보_20211229.csv', encoding = 'cp949')"
   ]
  },
  {
   "cell_type": "code",
   "execution_count": 5,
   "id": "f4e56ef6",
   "metadata": {},
   "outputs": [
    {
     "data": {
      "text/html": [
       "<div>\n",
       "<style scoped>\n",
       "    .dataframe tbody tr th:only-of-type {\n",
       "        vertical-align: middle;\n",
       "    }\n",
       "\n",
       "    .dataframe tbody tr th {\n",
       "        vertical-align: top;\n",
       "    }\n",
       "\n",
       "    .dataframe thead th {\n",
       "        text-align: right;\n",
       "    }\n",
       "</style>\n",
       "<table border=\"1\" class=\"dataframe\">\n",
       "  <thead>\n",
       "    <tr style=\"text-align: right;\">\n",
       "      <th></th>\n",
       "      <th>기준년도</th>\n",
       "      <th>가입자 일련번호</th>\n",
       "      <th>시도코드</th>\n",
       "      <th>성별코드</th>\n",
       "      <th>연령대 코드(5세단위)</th>\n",
       "      <th>신장(5Cm단위)</th>\n",
       "      <th>체중(5Kg 단위)</th>\n",
       "      <th>허리둘레</th>\n",
       "      <th>시력(좌)</th>\n",
       "      <th>시력(우)</th>\n",
       "      <th>...</th>\n",
       "      <th>혈청크레아티닌</th>\n",
       "      <th>(혈청지오티)AST</th>\n",
       "      <th>(혈청지오티)ALT</th>\n",
       "      <th>감마 지티피</th>\n",
       "      <th>흡연상태</th>\n",
       "      <th>음주여부</th>\n",
       "      <th>구강검진 수검여부</th>\n",
       "      <th>치아우식증유무</th>\n",
       "      <th>치석</th>\n",
       "      <th>데이터 공개일자</th>\n",
       "    </tr>\n",
       "  </thead>\n",
       "  <tbody>\n",
       "    <tr>\n",
       "      <th>0</th>\n",
       "      <td>2020</td>\n",
       "      <td>1</td>\n",
       "      <td>36</td>\n",
       "      <td>1</td>\n",
       "      <td>9</td>\n",
       "      <td>165</td>\n",
       "      <td>60</td>\n",
       "      <td>72.1</td>\n",
       "      <td>1.2</td>\n",
       "      <td>1.5</td>\n",
       "      <td>...</td>\n",
       "      <td>1.1</td>\n",
       "      <td>21.0</td>\n",
       "      <td>27.0</td>\n",
       "      <td>21.0</td>\n",
       "      <td>1.0</td>\n",
       "      <td>0.0</td>\n",
       "      <td>0</td>\n",
       "      <td>NaN</td>\n",
       "      <td>NaN</td>\n",
       "      <td>2021-12-29</td>\n",
       "    </tr>\n",
       "    <tr>\n",
       "      <th>1</th>\n",
       "      <td>2020</td>\n",
       "      <td>2</td>\n",
       "      <td>27</td>\n",
       "      <td>2</td>\n",
       "      <td>13</td>\n",
       "      <td>150</td>\n",
       "      <td>65</td>\n",
       "      <td>81.0</td>\n",
       "      <td>0.8</td>\n",
       "      <td>0.8</td>\n",
       "      <td>...</td>\n",
       "      <td>0.5</td>\n",
       "      <td>18.0</td>\n",
       "      <td>15.0</td>\n",
       "      <td>15.0</td>\n",
       "      <td>1.0</td>\n",
       "      <td>0.0</td>\n",
       "      <td>0</td>\n",
       "      <td>NaN</td>\n",
       "      <td>NaN</td>\n",
       "      <td>2021-12-29</td>\n",
       "    </tr>\n",
       "    <tr>\n",
       "      <th>2</th>\n",
       "      <td>2020</td>\n",
       "      <td>3</td>\n",
       "      <td>11</td>\n",
       "      <td>2</td>\n",
       "      <td>12</td>\n",
       "      <td>155</td>\n",
       "      <td>55</td>\n",
       "      <td>70.0</td>\n",
       "      <td>0.6</td>\n",
       "      <td>0.7</td>\n",
       "      <td>...</td>\n",
       "      <td>0.7</td>\n",
       "      <td>27.0</td>\n",
       "      <td>25.0</td>\n",
       "      <td>7.0</td>\n",
       "      <td>1.0</td>\n",
       "      <td>0.0</td>\n",
       "      <td>0</td>\n",
       "      <td>NaN</td>\n",
       "      <td>NaN</td>\n",
       "      <td>2021-12-29</td>\n",
       "    </tr>\n",
       "    <tr>\n",
       "      <th>3</th>\n",
       "      <td>2020</td>\n",
       "      <td>4</td>\n",
       "      <td>31</td>\n",
       "      <td>1</td>\n",
       "      <td>13</td>\n",
       "      <td>160</td>\n",
       "      <td>70</td>\n",
       "      <td>90.8</td>\n",
       "      <td>1.0</td>\n",
       "      <td>1.0</td>\n",
       "      <td>...</td>\n",
       "      <td>1.2</td>\n",
       "      <td>65.0</td>\n",
       "      <td>97.0</td>\n",
       "      <td>72.0</td>\n",
       "      <td>1.0</td>\n",
       "      <td>0.0</td>\n",
       "      <td>1</td>\n",
       "      <td>0.0</td>\n",
       "      <td>0.0</td>\n",
       "      <td>2021-12-29</td>\n",
       "    </tr>\n",
       "    <tr>\n",
       "      <th>4</th>\n",
       "      <td>2020</td>\n",
       "      <td>5</td>\n",
       "      <td>41</td>\n",
       "      <td>2</td>\n",
       "      <td>12</td>\n",
       "      <td>155</td>\n",
       "      <td>50</td>\n",
       "      <td>75.2</td>\n",
       "      <td>1.5</td>\n",
       "      <td>1.2</td>\n",
       "      <td>...</td>\n",
       "      <td>0.7</td>\n",
       "      <td>18.0</td>\n",
       "      <td>17.0</td>\n",
       "      <td>14.0</td>\n",
       "      <td>1.0</td>\n",
       "      <td>0.0</td>\n",
       "      <td>0</td>\n",
       "      <td>NaN</td>\n",
       "      <td>NaN</td>\n",
       "      <td>2021-12-29</td>\n",
       "    </tr>\n",
       "  </tbody>\n",
       "</table>\n",
       "<p>5 rows × 31 columns</p>\n",
       "</div>"
      ],
      "text/plain": [
       "   기준년도  가입자 일련번호  시도코드  성별코드  연령대 코드(5세단위)  신장(5Cm단위)  체중(5Kg 단위)  허리둘레  \\\n",
       "0  2020         1    36     1             9        165          60  72.1   \n",
       "1  2020         2    27     2            13        150          65  81.0   \n",
       "2  2020         3    11     2            12        155          55  70.0   \n",
       "3  2020         4    31     1            13        160          70  90.8   \n",
       "4  2020         5    41     2            12        155          50  75.2   \n",
       "\n",
       "   시력(좌)  시력(우)  ...  혈청크레아티닌  (혈청지오티)AST  (혈청지오티)ALT  감마 지티피  흡연상태  음주여부  \\\n",
       "0    1.2    1.5  ...      1.1        21.0        27.0    21.0   1.0   0.0   \n",
       "1    0.8    0.8  ...      0.5        18.0        15.0    15.0   1.0   0.0   \n",
       "2    0.6    0.7  ...      0.7        27.0        25.0     7.0   1.0   0.0   \n",
       "3    1.0    1.0  ...      1.2        65.0        97.0    72.0   1.0   0.0   \n",
       "4    1.5    1.2  ...      0.7        18.0        17.0    14.0   1.0   0.0   \n",
       "\n",
       "   구강검진 수검여부  치아우식증유무   치석    데이터 공개일자  \n",
       "0          0      NaN  NaN  2021-12-29  \n",
       "1          0      NaN  NaN  2021-12-29  \n",
       "2          0      NaN  NaN  2021-12-29  \n",
       "3          1      0.0  0.0  2021-12-29  \n",
       "4          0      NaN  NaN  2021-12-29  \n",
       "\n",
       "[5 rows x 31 columns]"
      ]
     },
     "execution_count": 5,
     "metadata": {},
     "output_type": "execute_result"
    }
   ],
   "source": [
    "dt.head()"
   ]
  },
  {
   "cell_type": "code",
   "execution_count": 6,
   "id": "a14e443e",
   "metadata": {},
   "outputs": [
    {
     "name": "stdout",
     "output_type": "stream",
     "text": [
      "<class 'pandas.core.frame.DataFrame'>\n",
      "RangeIndex: 1000000 entries, 0 to 999999\n",
      "Data columns (total 31 columns):\n",
      " #   Column        Non-Null Count    Dtype  \n",
      "---  ------        --------------    -----  \n",
      " 0   기준년도          1000000 non-null  int64  \n",
      " 1   가입자 일련번호      1000000 non-null  int64  \n",
      " 2   시도코드          1000000 non-null  int64  \n",
      " 3   성별코드          1000000 non-null  int64  \n",
      " 4   연령대 코드(5세단위)  1000000 non-null  int64  \n",
      " 5   신장(5Cm단위)     1000000 non-null  int64  \n",
      " 6   체중(5Kg 단위)    1000000 non-null  int64  \n",
      " 7   허리둘레          999892 non-null   float64\n",
      " 8   시력(좌)         999743 non-null   float64\n",
      " 9   시력(우)         999748 non-null   float64\n",
      " 10  청력(좌)         999778 non-null   float64\n",
      " 11  청력(우)         999770 non-null   float64\n",
      " 12  수축기 혈압        992468 non-null   float64\n",
      " 13  이완기 혈압        992466 non-null   float64\n",
      " 14  식전혈당(공복혈당)    992398 non-null   float64\n",
      " 15  총 콜레스테롤       402306 non-null   float64\n",
      " 16  트리글리세라이드      402322 non-null   float64\n",
      " 17  HDL 콜레스테롤     402315 non-null   float64\n",
      " 18  LDL 콜레스테롤     394471 non-null   float64\n",
      " 19  혈색소           992389 non-null   float64\n",
      " 20  요단백           987859 non-null   float64\n",
      " 21  혈청크레아티닌       992398 non-null   float64\n",
      " 22  (혈청지오티)AST    992399 non-null   float64\n",
      " 23  (혈청지오티)ALT    992398 non-null   float64\n",
      " 24  감마 지티피        992397 non-null   float64\n",
      " 25  흡연상태          999657 non-null   float64\n",
      " 26  음주여부          999804 non-null   float64\n",
      " 27  구강검진 수검여부     1000000 non-null  int64  \n",
      " 28  치아우식증유무       331383 non-null   float64\n",
      " 29  치석            331382 non-null   float64\n",
      " 30  데이터 공개일자      1000000 non-null  object \n",
      "dtypes: float64(22), int64(8), object(1)\n",
      "memory usage: 236.5+ MB\n"
     ]
    }
   ],
   "source": [
    "dt.info()"
   ]
  },
  {
   "cell_type": "code",
   "execution_count": 7,
   "id": "630e0324",
   "metadata": {},
   "outputs": [],
   "source": [
    "dt.rename(columns = {'가입자 일련번호' : 'ID', '성별코드' : 'sex',   '신장(5Cm단위)' : 'height', '체중(5Kg 단위)' : 'weight', '시력(좌)' : 'vision_left',  '시력(우)' : 'vision_right'}, inplace = True)"
   ]
  },
  {
   "cell_type": "code",
   "execution_count": 8,
   "id": "cdfb79cb",
   "metadata": {},
   "outputs": [],
   "source": [
    "dt.rename(columns = {'연령대 코드(5세단위)' : 'age'}, inplace = True)"
   ]
  },
  {
   "cell_type": "code",
   "execution_count": 9,
   "id": "a9c59e1e",
   "metadata": {},
   "outputs": [],
   "source": [
    "dt.rename(columns =  {'수축기 혈압' : 'systolic_b_pressure', '이완기 혈압' : 'diastolic b_pressure', '식전혈당(공복혈당)' : 'pre-meal_b_sugar'}, inplace = True)"
   ]
  },
  {
   "cell_type": "code",
   "execution_count": 10,
   "id": "98986006",
   "metadata": {},
   "outputs": [
    {
     "name": "stdout",
     "output_type": "stream",
     "text": [
      "<class 'pandas.core.frame.DataFrame'>\n",
      "RangeIndex: 1000000 entries, 0 to 999999\n",
      "Data columns (total 31 columns):\n",
      " #   Column                Non-Null Count    Dtype  \n",
      "---  ------                --------------    -----  \n",
      " 0   기준년도                  1000000 non-null  int64  \n",
      " 1   ID                    1000000 non-null  int64  \n",
      " 2   시도코드                  1000000 non-null  int64  \n",
      " 3   sex                   1000000 non-null  int64  \n",
      " 4   age                   1000000 non-null  int64  \n",
      " 5   height                1000000 non-null  int64  \n",
      " 6   weight                1000000 non-null  int64  \n",
      " 7   허리둘레                  999892 non-null   float64\n",
      " 8   vision_left           999743 non-null   float64\n",
      " 9   vision_right          999748 non-null   float64\n",
      " 10  청력(좌)                 999778 non-null   float64\n",
      " 11  청력(우)                 999770 non-null   float64\n",
      " 12  systolic_b_pressure   992468 non-null   float64\n",
      " 13  diastolic b_pressure  992466 non-null   float64\n",
      " 14  pre-meal_b_sugar      992398 non-null   float64\n",
      " 15  총 콜레스테롤               402306 non-null   float64\n",
      " 16  트리글리세라이드              402322 non-null   float64\n",
      " 17  HDL 콜레스테롤             402315 non-null   float64\n",
      " 18  LDL 콜레스테롤             394471 non-null   float64\n",
      " 19  혈색소                   992389 non-null   float64\n",
      " 20  요단백                   987859 non-null   float64\n",
      " 21  혈청크레아티닌               992398 non-null   float64\n",
      " 22  (혈청지오티)AST            992399 non-null   float64\n",
      " 23  (혈청지오티)ALT            992398 non-null   float64\n",
      " 24  감마 지티피                992397 non-null   float64\n",
      " 25  흡연상태                  999657 non-null   float64\n",
      " 26  음주여부                  999804 non-null   float64\n",
      " 27  구강검진 수검여부             1000000 non-null  int64  \n",
      " 28  치아우식증유무               331383 non-null   float64\n",
      " 29  치석                    331382 non-null   float64\n",
      " 30  데이터 공개일자              1000000 non-null  object \n",
      "dtypes: float64(22), int64(8), object(1)\n",
      "memory usage: 236.5+ MB\n"
     ]
    }
   ],
   "source": [
    "dt.info()"
   ]
  },
  {
   "cell_type": "code",
   "execution_count": 11,
   "id": "86d61b49",
   "metadata": {},
   "outputs": [],
   "source": [
    "#  분석 대상 Column 만 추출\n",
    "df = dt.iloc[:, [1, 3, 4, 5, 6, 8 , 9, 12, 13, 14]]"
   ]
  },
  {
   "cell_type": "code",
   "execution_count": 12,
   "id": "06806b0c",
   "metadata": {},
   "outputs": [
    {
     "data": {
      "text/html": [
       "<div>\n",
       "<style scoped>\n",
       "    .dataframe tbody tr th:only-of-type {\n",
       "        vertical-align: middle;\n",
       "    }\n",
       "\n",
       "    .dataframe tbody tr th {\n",
       "        vertical-align: top;\n",
       "    }\n",
       "\n",
       "    .dataframe thead th {\n",
       "        text-align: right;\n",
       "    }\n",
       "</style>\n",
       "<table border=\"1\" class=\"dataframe\">\n",
       "  <thead>\n",
       "    <tr style=\"text-align: right;\">\n",
       "      <th></th>\n",
       "      <th>ID</th>\n",
       "      <th>sex</th>\n",
       "      <th>age</th>\n",
       "      <th>height</th>\n",
       "      <th>weight</th>\n",
       "      <th>vision_left</th>\n",
       "      <th>vision_right</th>\n",
       "      <th>systolic_b_pressure</th>\n",
       "      <th>diastolic b_pressure</th>\n",
       "      <th>pre-meal_b_sugar</th>\n",
       "    </tr>\n",
       "  </thead>\n",
       "  <tbody>\n",
       "    <tr>\n",
       "      <th>0</th>\n",
       "      <td>1</td>\n",
       "      <td>1</td>\n",
       "      <td>9</td>\n",
       "      <td>165</td>\n",
       "      <td>60</td>\n",
       "      <td>1.2</td>\n",
       "      <td>1.5</td>\n",
       "      <td>127.0</td>\n",
       "      <td>79.0</td>\n",
       "      <td>90.0</td>\n",
       "    </tr>\n",
       "    <tr>\n",
       "      <th>1</th>\n",
       "      <td>2</td>\n",
       "      <td>2</td>\n",
       "      <td>13</td>\n",
       "      <td>150</td>\n",
       "      <td>65</td>\n",
       "      <td>0.8</td>\n",
       "      <td>0.8</td>\n",
       "      <td>110.0</td>\n",
       "      <td>73.0</td>\n",
       "      <td>87.0</td>\n",
       "    </tr>\n",
       "    <tr>\n",
       "      <th>2</th>\n",
       "      <td>3</td>\n",
       "      <td>2</td>\n",
       "      <td>12</td>\n",
       "      <td>155</td>\n",
       "      <td>55</td>\n",
       "      <td>0.6</td>\n",
       "      <td>0.7</td>\n",
       "      <td>123.0</td>\n",
       "      <td>80.0</td>\n",
       "      <td>102.0</td>\n",
       "    </tr>\n",
       "    <tr>\n",
       "      <th>3</th>\n",
       "      <td>4</td>\n",
       "      <td>1</td>\n",
       "      <td>13</td>\n",
       "      <td>160</td>\n",
       "      <td>70</td>\n",
       "      <td>1.0</td>\n",
       "      <td>1.0</td>\n",
       "      <td>134.0</td>\n",
       "      <td>84.0</td>\n",
       "      <td>146.0</td>\n",
       "    </tr>\n",
       "    <tr>\n",
       "      <th>4</th>\n",
       "      <td>5</td>\n",
       "      <td>2</td>\n",
       "      <td>12</td>\n",
       "      <td>155</td>\n",
       "      <td>50</td>\n",
       "      <td>1.5</td>\n",
       "      <td>1.2</td>\n",
       "      <td>144.0</td>\n",
       "      <td>89.0</td>\n",
       "      <td>110.0</td>\n",
       "    </tr>\n",
       "  </tbody>\n",
       "</table>\n",
       "</div>"
      ],
      "text/plain": [
       "   ID  sex  age  height  weight  vision_left  vision_right  \\\n",
       "0   1    1    9     165      60          1.2           1.5   \n",
       "1   2    2   13     150      65          0.8           0.8   \n",
       "2   3    2   12     155      55          0.6           0.7   \n",
       "3   4    1   13     160      70          1.0           1.0   \n",
       "4   5    2   12     155      50          1.5           1.2   \n",
       "\n",
       "   systolic_b_pressure  diastolic b_pressure  pre-meal_b_sugar  \n",
       "0                127.0                  79.0              90.0  \n",
       "1                110.0                  73.0              87.0  \n",
       "2                123.0                  80.0             102.0  \n",
       "3                134.0                  84.0             146.0  \n",
       "4                144.0                  89.0             110.0  "
      ]
     },
     "execution_count": 12,
     "metadata": {},
     "output_type": "execute_result"
    }
   ],
   "source": [
    "df.head()"
   ]
  },
  {
   "cell_type": "code",
   "execution_count": 13,
   "id": "487de227",
   "metadata": {},
   "outputs": [
    {
     "data": {
      "text/plain": [
       "(1000000, 10)"
      ]
     },
     "execution_count": 13,
     "metadata": {},
     "output_type": "execute_result"
    }
   ],
   "source": [
    "df.shape  #  1백만 index 및 11개 feature )"
   ]
  },
  {
   "cell_type": "code",
   "execution_count": 14,
   "id": "c344e4db",
   "metadata": {},
   "outputs": [
    {
     "name": "stderr",
     "output_type": "stream",
     "text": [
      "C:\\Users\\junoh\\AppData\\Local\\Temp/ipykernel_10236/2976784113.py:2: SettingWithCopyWarning: \n",
      "A value is trying to be set on a copy of a slice from a DataFrame.\n",
      "Try using .loc[row_indexer,col_indexer] = value instead\n",
      "\n",
      "See the caveats in the documentation: https://pandas.pydata.org/pandas-docs/stable/user_guide/indexing.html#returning-a-view-versus-a-copy\n",
      "  df['vision_diff'] =abs( df['vision_left'] - df['vision_right'])\n"
     ]
    }
   ],
   "source": [
    "#  파생변수 생성 : difference between visiotn_left and vision_right\n",
    "df['vision_diff'] =abs( df['vision_left'] - df['vision_right'])"
   ]
  },
  {
   "cell_type": "code",
   "execution_count": 15,
   "id": "1272354a",
   "metadata": {},
   "outputs": [
    {
     "data": {
      "text/html": [
       "<div>\n",
       "<style scoped>\n",
       "    .dataframe tbody tr th:only-of-type {\n",
       "        vertical-align: middle;\n",
       "    }\n",
       "\n",
       "    .dataframe tbody tr th {\n",
       "        vertical-align: top;\n",
       "    }\n",
       "\n",
       "    .dataframe thead th {\n",
       "        text-align: right;\n",
       "    }\n",
       "</style>\n",
       "<table border=\"1\" class=\"dataframe\">\n",
       "  <thead>\n",
       "    <tr style=\"text-align: right;\">\n",
       "      <th></th>\n",
       "      <th>ID</th>\n",
       "      <th>sex</th>\n",
       "      <th>age</th>\n",
       "      <th>height</th>\n",
       "      <th>weight</th>\n",
       "      <th>vision_left</th>\n",
       "      <th>vision_right</th>\n",
       "      <th>systolic_b_pressure</th>\n",
       "      <th>diastolic b_pressure</th>\n",
       "      <th>pre-meal_b_sugar</th>\n",
       "      <th>vision_diff</th>\n",
       "    </tr>\n",
       "  </thead>\n",
       "  <tbody>\n",
       "    <tr>\n",
       "      <th>0</th>\n",
       "      <td>1</td>\n",
       "      <td>1</td>\n",
       "      <td>9</td>\n",
       "      <td>165</td>\n",
       "      <td>60</td>\n",
       "      <td>1.2</td>\n",
       "      <td>1.5</td>\n",
       "      <td>127.0</td>\n",
       "      <td>79.0</td>\n",
       "      <td>90.0</td>\n",
       "      <td>0.3</td>\n",
       "    </tr>\n",
       "    <tr>\n",
       "      <th>1</th>\n",
       "      <td>2</td>\n",
       "      <td>2</td>\n",
       "      <td>13</td>\n",
       "      <td>150</td>\n",
       "      <td>65</td>\n",
       "      <td>0.8</td>\n",
       "      <td>0.8</td>\n",
       "      <td>110.0</td>\n",
       "      <td>73.0</td>\n",
       "      <td>87.0</td>\n",
       "      <td>0.0</td>\n",
       "    </tr>\n",
       "    <tr>\n",
       "      <th>2</th>\n",
       "      <td>3</td>\n",
       "      <td>2</td>\n",
       "      <td>12</td>\n",
       "      <td>155</td>\n",
       "      <td>55</td>\n",
       "      <td>0.6</td>\n",
       "      <td>0.7</td>\n",
       "      <td>123.0</td>\n",
       "      <td>80.0</td>\n",
       "      <td>102.0</td>\n",
       "      <td>0.1</td>\n",
       "    </tr>\n",
       "    <tr>\n",
       "      <th>3</th>\n",
       "      <td>4</td>\n",
       "      <td>1</td>\n",
       "      <td>13</td>\n",
       "      <td>160</td>\n",
       "      <td>70</td>\n",
       "      <td>1.0</td>\n",
       "      <td>1.0</td>\n",
       "      <td>134.0</td>\n",
       "      <td>84.0</td>\n",
       "      <td>146.0</td>\n",
       "      <td>0.0</td>\n",
       "    </tr>\n",
       "    <tr>\n",
       "      <th>4</th>\n",
       "      <td>5</td>\n",
       "      <td>2</td>\n",
       "      <td>12</td>\n",
       "      <td>155</td>\n",
       "      <td>50</td>\n",
       "      <td>1.5</td>\n",
       "      <td>1.2</td>\n",
       "      <td>144.0</td>\n",
       "      <td>89.0</td>\n",
       "      <td>110.0</td>\n",
       "      <td>0.3</td>\n",
       "    </tr>\n",
       "  </tbody>\n",
       "</table>\n",
       "</div>"
      ],
      "text/plain": [
       "   ID  sex  age  height  weight  vision_left  vision_right  \\\n",
       "0   1    1    9     165      60          1.2           1.5   \n",
       "1   2    2   13     150      65          0.8           0.8   \n",
       "2   3    2   12     155      55          0.6           0.7   \n",
       "3   4    1   13     160      70          1.0           1.0   \n",
       "4   5    2   12     155      50          1.5           1.2   \n",
       "\n",
       "   systolic_b_pressure  diastolic b_pressure  pre-meal_b_sugar  vision_diff  \n",
       "0                127.0                  79.0              90.0          0.3  \n",
       "1                110.0                  73.0              87.0          0.0  \n",
       "2                123.0                  80.0             102.0          0.1  \n",
       "3                134.0                  84.0             146.0          0.0  \n",
       "4                144.0                  89.0             110.0          0.3  "
      ]
     },
     "execution_count": 15,
     "metadata": {},
     "output_type": "execute_result"
    }
   ],
   "source": [
    "df.head()"
   ]
  },
  {
   "cell_type": "code",
   "execution_count": 16,
   "id": "cc56f484",
   "metadata": {},
   "outputs": [
    {
     "name": "stdout",
     "output_type": "stream",
     "text": [
      "11    175705\n",
      "9     156277\n",
      "13    155096\n",
      "10    144165\n",
      "12    142089\n",
      "14     86653\n",
      "15     73714\n",
      "16     36663\n",
      "17     23401\n",
      "18      6237\n",
      "Name: age, dtype: int64\n",
      "1    510689\n",
      "2    489311\n",
      "Name: sex, dtype: int64\n"
     ]
    }
   ],
   "source": [
    "print(df['age'].value_counts())\n",
    "print(df['sex'].value_counts())"
   ]
  },
  {
   "cell_type": "code",
   "execution_count": 17,
   "id": "fe32f761",
   "metadata": {},
   "outputs": [
    {
     "data": {
      "image/png": "[encoded data removed]",
      "text/plain": [
       "<Figure size 720x432 with 1 Axes>"
      ]
     },
     "metadata": {},
     "output_type": "display_data"
    }
   ],
   "source": [
    "#   검짐데이터 기초 분석\n",
    "# 1) 성별 분포\n",
    "x = ['남성', '여성']\n",
    "y= [510689, 489311]\n",
    "plt.figure(figsize = (10, 6))\n",
    "plt.pie(y, labels = x, autopct ='%.1f%%' , startangle =270 )\n",
    "plt.show()"
   ]
  },
  {
   "cell_type": "code",
   "execution_count": 18,
   "id": "bbc0bbce",
   "metadata": {},
   "outputs": [
    {
     "data": {
      "image/png": "[encoded data removed]",
      "text/plain": [
       "<Figure size 864x432 with 1 Axes>"
      ]
     },
     "metadata": {},
     "output_type": "display_data"
    }
   ],
   "source": [
    "# 2) age 별 분포\n",
    "age_group = ['41~45', '46~50', '51~55', '56~60', '61~65', '66~70', '71~75', '75~80', '81~85', '86~90']\n",
    "plt.figure(figsize = (12, 6))\n",
    "plt.hist(df['age'], histtype = 'bar')\n",
    "plt.show()"
   ]
  },
  {
   "cell_type": "markdown",
   "id": "fe1191a9",
   "metadata": {},
   "source": [
    "##### 1. 성별 시력 분포"
   ]
  },
  {
   "cell_type": "code",
   "execution_count": 19,
   "id": "282495c4",
   "metadata": {},
   "outputs": [
    {
     "name": "stderr",
     "output_type": "stream",
     "text": [
      "C:\\Users\\junoh\\AppData\\Local\\Temp/ipykernel_10236/4018142339.py:2: FutureWarning: Indexing with multiple keys (implicitly converted to a tuple of keys) will be deprecated, use a list instead.\n",
      "  df_by_sex = df.groupby('sex')['vision_left', 'vision_right'].mean()\n"
     ]
    },
    {
     "data": {
      "text/html": [
       "<div>\n",
       "<style scoped>\n",
       "    .dataframe tbody tr th:only-of-type {\n",
       "        vertical-align: middle;\n",
       "    }\n",
       "\n",
       "    .dataframe tbody tr th {\n",
       "        vertical-align: top;\n",
       "    }\n",
       "\n",
       "    .dataframe thead th {\n",
       "        text-align: right;\n",
       "    }\n",
       "</style>\n",
       "<table border=\"1\" class=\"dataframe\">\n",
       "  <thead>\n",
       "    <tr style=\"text-align: right;\">\n",
       "      <th></th>\n",
       "      <th>vision_left</th>\n",
       "      <th>vision_right</th>\n",
       "    </tr>\n",
       "    <tr>\n",
       "      <th>sex</th>\n",
       "      <th></th>\n",
       "      <th></th>\n",
       "    </tr>\n",
       "  </thead>\n",
       "  <tbody>\n",
       "    <tr>\n",
       "      <th>1</th>\n",
       "      <td>0.98318</td>\n",
       "      <td>0.988278</td>\n",
       "    </tr>\n",
       "    <tr>\n",
       "      <th>2</th>\n",
       "      <td>0.88072</td>\n",
       "      <td>0.879468</td>\n",
       "    </tr>\n",
       "  </tbody>\n",
       "</table>\n",
       "</div>"
      ],
      "text/plain": [
       "     vision_left  vision_right\n",
       "sex                           \n",
       "1        0.98318      0.988278\n",
       "2        0.88072      0.879468"
      ]
     },
     "execution_count": 19,
     "metadata": {},
     "output_type": "execute_result"
    }
   ],
   "source": [
    "# 시력(좌) \n",
    "df_by_sex = df.groupby('sex')['vision_left', 'vision_right'].mean()\n",
    "df_by_sex"
   ]
  },
  {
   "cell_type": "markdown",
   "id": "e833e03a",
   "metadata": {},
   "source": [
    "#####  2. 연령대별 시력 분포"
   ]
  },
  {
   "cell_type": "code",
   "execution_count": 20,
   "id": "5868bf0b",
   "metadata": {},
   "outputs": [
    {
     "name": "stderr",
     "output_type": "stream",
     "text": [
      "C:\\Users\\junoh\\AppData\\Local\\Temp/ipykernel_10236/3135355686.py:2: FutureWarning: Indexing with multiple keys (implicitly converted to a tuple of keys) will be deprecated, use a list instead.\n",
      "  df_by_age = df.groupby('age')['vision_left', 'vision_right'].mean()\n"
     ]
    },
    {
     "data": {
      "text/html": [
       "<div>\n",
       "<style scoped>\n",
       "    .dataframe tbody tr th:only-of-type {\n",
       "        vertical-align: middle;\n",
       "    }\n",
       "\n",
       "    .dataframe tbody tr th {\n",
       "        vertical-align: top;\n",
       "    }\n",
       "\n",
       "    .dataframe thead th {\n",
       "        text-align: right;\n",
       "    }\n",
       "</style>\n",
       "<table border=\"1\" class=\"dataframe\">\n",
       "  <thead>\n",
       "    <tr style=\"text-align: right;\">\n",
       "      <th></th>\n",
       "      <th>vision_left</th>\n",
       "      <th>vision_right</th>\n",
       "    </tr>\n",
       "    <tr>\n",
       "      <th>age</th>\n",
       "      <th></th>\n",
       "      <th></th>\n",
       "    </tr>\n",
       "  </thead>\n",
       "  <tbody>\n",
       "    <tr>\n",
       "      <th>9</th>\n",
       "      <td>1.074190</td>\n",
       "      <td>1.070411</td>\n",
       "    </tr>\n",
       "    <tr>\n",
       "      <th>10</th>\n",
       "      <td>1.013562</td>\n",
       "      <td>1.011263</td>\n",
       "    </tr>\n",
       "    <tr>\n",
       "      <th>11</th>\n",
       "      <td>0.974431</td>\n",
       "      <td>0.976357</td>\n",
       "    </tr>\n",
       "    <tr>\n",
       "      <th>12</th>\n",
       "      <td>0.940721</td>\n",
       "      <td>0.943622</td>\n",
       "    </tr>\n",
       "    <tr>\n",
       "      <th>13</th>\n",
       "      <td>0.876169</td>\n",
       "      <td>0.880179</td>\n",
       "    </tr>\n",
       "    <tr>\n",
       "      <th>14</th>\n",
       "      <td>0.817555</td>\n",
       "      <td>0.824614</td>\n",
       "    </tr>\n",
       "    <tr>\n",
       "      <th>15</th>\n",
       "      <td>0.784676</td>\n",
       "      <td>0.792073</td>\n",
       "    </tr>\n",
       "    <tr>\n",
       "      <th>16</th>\n",
       "      <td>0.764188</td>\n",
       "      <td>0.757936</td>\n",
       "    </tr>\n",
       "    <tr>\n",
       "      <th>17</th>\n",
       "      <td>0.725754</td>\n",
       "      <td>0.749793</td>\n",
       "    </tr>\n",
       "    <tr>\n",
       "      <th>18</th>\n",
       "      <td>0.737647</td>\n",
       "      <td>0.745669</td>\n",
       "    </tr>\n",
       "  </tbody>\n",
       "</table>\n",
       "</div>"
      ],
      "text/plain": [
       "     vision_left  vision_right\n",
       "age                           \n",
       "9       1.074190      1.070411\n",
       "10      1.013562      1.011263\n",
       "11      0.974431      0.976357\n",
       "12      0.940721      0.943622\n",
       "13      0.876169      0.880179\n",
       "14      0.817555      0.824614\n",
       "15      0.784676      0.792073\n",
       "16      0.764188      0.757936\n",
       "17      0.725754      0.749793\n",
       "18      0.737647      0.745669"
      ]
     },
     "execution_count": 20,
     "metadata": {},
     "output_type": "execute_result"
    }
   ],
   "source": [
    "# 시력(좌) \n",
    "df_by_age = df.groupby('age')['vision_left', 'vision_right'].mean()\n",
    "df_by_age"
   ]
  },
  {
   "cell_type": "code",
   "execution_count": 21,
   "id": "04fb49ab",
   "metadata": {},
   "outputs": [
    {
     "name": "stderr",
     "output_type": "stream",
     "text": [
      "No handles with labels found to put in legend.\n"
     ]
    },
    {
     "data": {
      "image/png": "[encoded data removed]",
      "text/plain": [
       "<Figure size 864x432 with 1 Axes>"
      ]
     },
     "metadata": {},
     "output_type": "display_data"
    }
   ],
   "source": [
    "age_group = ['41~45', '46~50', '51~55', '56~60', '61~65', '66~70', '71~75', '75~80', '81~85', '86~90']\n",
    "x = np.arange(10)\n",
    "bar_width = 0.5\n",
    "plt.figure(figsize=(12, 6))\n",
    "plt.bar(x, df_by_age['vision_left'],  width = 0.4)\n",
    "plt.bar(x + bar_width, df_by_age['vision_right'], color = 'r', width = 0.4)\n",
    "plt.xticks(x +0.25, age_group)\n",
    "plt.xlabel('연령대', size = 13)\n",
    "plt.ylabel('시력', size = 13)\n",
    "plt.title('연령대 별 평균 시력', size = 16, pad = 14, fontweight = 'bold')\n",
    "plt.legend(loc = 'best')\n",
    "plt.show()"
   ]
  },
  {
   "cell_type": "markdown",
   "id": "b154c6e3",
   "metadata": {},
   "source": [
    "2.1 연령대별 좌우시력 차이"
   ]
  },
  {
   "cell_type": "code",
   "execution_count": 22,
   "id": "3efde7ed",
   "metadata": {},
   "outputs": [
    {
     "data": {
      "text/plain": [
       "age\n",
       "9     0.184462\n",
       "10    0.189258\n",
       "11    0.201260\n",
       "12    0.214125\n",
       "13    0.232001\n",
       "14    0.249610\n",
       "15    0.305031\n",
       "16    0.374133\n",
       "17    0.411227\n",
       "18    0.451905\n",
       "Name: vision_diff, dtype: float64"
      ]
     },
     "execution_count": 22,
     "metadata": {},
     "output_type": "execute_result"
    }
   ],
   "source": [
    "df_diff_by_age = df.groupby('age')['vision_diff'].mean()\n",
    "df_diff_by_age"
   ]
  },
  {
   "cell_type": "code",
   "execution_count": 23,
   "id": "c620d3ac",
   "metadata": {},
   "outputs": [
    {
     "data": {
      "image/png": "[encoded data removed]",
      "text/plain": [
       "<Figure size 432x576 with 1 Axes>"
      ]
     },
     "metadata": {},
     "output_type": "display_data"
    }
   ],
   "source": [
    "x = np.arange(10)\n",
    "plt.figure(figsize = (6,8))\n",
    "plt.barh(x, df_diff_by_age, alpha = 0.6)\n",
    "plt.yticks(x, age_group, size = 12)\n",
    "plt.xlabel('좌우시력 차이', size = 14)\n",
    "plt.ylabel('연령대', size = 14)\n",
    "plt.title('연령대별 좌우 시력 차이', size = 16, pad = 16,fontweight = 'bold')\n",
    "plt.show()"
   ]
  },
  {
   "cell_type": "markdown",
   "id": "5ebb498a",
   "metadata": {},
   "source": [
    "#####  상관관계분석"
   ]
  },
  {
   "cell_type": "code",
   "execution_count": 24,
   "id": "5a7871c8",
   "metadata": {},
   "outputs": [
    {
     "data": {
      "text/html": [
       "<div>\n",
       "<style scoped>\n",
       "    .dataframe tbody tr th:only-of-type {\n",
       "        vertical-align: middle;\n",
       "    }\n",
       "\n",
       "    .dataframe tbody tr th {\n",
       "        vertical-align: top;\n",
       "    }\n",
       "\n",
       "    .dataframe thead th {\n",
       "        text-align: right;\n",
       "    }\n",
       "</style>\n",
       "<table border=\"1\" class=\"dataframe\">\n",
       "  <thead>\n",
       "    <tr style=\"text-align: right;\">\n",
       "      <th></th>\n",
       "      <th>vision_left</th>\n",
       "      <th>vision_right</th>\n",
       "      <th>systolic_b_pressure</th>\n",
       "      <th>diastolic b_pressure</th>\n",
       "      <th>pre-meal_b_sugar</th>\n",
       "      <th>vision_diff</th>\n",
       "    </tr>\n",
       "  </thead>\n",
       "  <tbody>\n",
       "    <tr>\n",
       "      <th>0</th>\n",
       "      <td>1.2</td>\n",
       "      <td>1.5</td>\n",
       "      <td>127.0</td>\n",
       "      <td>79.0</td>\n",
       "      <td>90.0</td>\n",
       "      <td>0.3</td>\n",
       "    </tr>\n",
       "    <tr>\n",
       "      <th>1</th>\n",
       "      <td>0.8</td>\n",
       "      <td>0.8</td>\n",
       "      <td>110.0</td>\n",
       "      <td>73.0</td>\n",
       "      <td>87.0</td>\n",
       "      <td>0.0</td>\n",
       "    </tr>\n",
       "    <tr>\n",
       "      <th>2</th>\n",
       "      <td>0.6</td>\n",
       "      <td>0.7</td>\n",
       "      <td>123.0</td>\n",
       "      <td>80.0</td>\n",
       "      <td>102.0</td>\n",
       "      <td>0.1</td>\n",
       "    </tr>\n",
       "    <tr>\n",
       "      <th>3</th>\n",
       "      <td>1.0</td>\n",
       "      <td>1.0</td>\n",
       "      <td>134.0</td>\n",
       "      <td>84.0</td>\n",
       "      <td>146.0</td>\n",
       "      <td>0.0</td>\n",
       "    </tr>\n",
       "    <tr>\n",
       "      <th>4</th>\n",
       "      <td>1.5</td>\n",
       "      <td>1.2</td>\n",
       "      <td>144.0</td>\n",
       "      <td>89.0</td>\n",
       "      <td>110.0</td>\n",
       "      <td>0.3</td>\n",
       "    </tr>\n",
       "  </tbody>\n",
       "</table>\n",
       "</div>"
      ],
      "text/plain": [
       "   vision_left  vision_right  systolic_b_pressure  diastolic b_pressure  \\\n",
       "0          1.2           1.5                127.0                  79.0   \n",
       "1          0.8           0.8                110.0                  73.0   \n",
       "2          0.6           0.7                123.0                  80.0   \n",
       "3          1.0           1.0                134.0                  84.0   \n",
       "4          1.5           1.2                144.0                  89.0   \n",
       "\n",
       "   pre-meal_b_sugar  vision_diff  \n",
       "0              90.0          0.3  \n",
       "1              87.0          0.0  \n",
       "2             102.0          0.1  \n",
       "3             146.0          0.0  \n",
       "4             110.0          0.3  "
      ]
     },
     "execution_count": 24,
     "metadata": {},
     "output_type": "execute_result"
    }
   ],
   "source": [
    "df_for_corr = df.drop(columns = ['ID', 'sex', 'age', 'height', 'weight'])\n",
    "df_for_corr.head()"
   ]
  },
  {
   "cell_type": "code",
   "execution_count": 25,
   "id": "3942bbeb",
   "metadata": {},
   "outputs": [
    {
     "data": {
      "text/html": [
       "<div>\n",
       "<style scoped>\n",
       "    .dataframe tbody tr th:only-of-type {\n",
       "        vertical-align: middle;\n",
       "    }\n",
       "\n",
       "    .dataframe tbody tr th {\n",
       "        vertical-align: top;\n",
       "    }\n",
       "\n",
       "    .dataframe thead th {\n",
       "        text-align: right;\n",
       "    }\n",
       "</style>\n",
       "<table border=\"1\" class=\"dataframe\">\n",
       "  <thead>\n",
       "    <tr style=\"text-align: right;\">\n",
       "      <th></th>\n",
       "      <th>vision_left</th>\n",
       "      <th>vision_right</th>\n",
       "      <th>systolic_b_pressure</th>\n",
       "      <th>diastolic b_pressure</th>\n",
       "      <th>pre-meal_b_sugar</th>\n",
       "      <th>vision_diff</th>\n",
       "    </tr>\n",
       "  </thead>\n",
       "  <tbody>\n",
       "    <tr>\n",
       "      <th>vision_left</th>\n",
       "      <td>1.000000</td>\n",
       "      <td>0.281132</td>\n",
       "      <td>-0.031905</td>\n",
       "      <td>0.015523</td>\n",
       "      <td>-0.024412</td>\n",
       "      <td>0.515084</td>\n",
       "    </tr>\n",
       "    <tr>\n",
       "      <th>vision_right</th>\n",
       "      <td>0.281132</td>\n",
       "      <td>1.000000</td>\n",
       "      <td>-0.030420</td>\n",
       "      <td>0.014267</td>\n",
       "      <td>-0.023774</td>\n",
       "      <td>0.532192</td>\n",
       "    </tr>\n",
       "    <tr>\n",
       "      <th>systolic_b_pressure</th>\n",
       "      <td>-0.031905</td>\n",
       "      <td>-0.030420</td>\n",
       "      <td>1.000000</td>\n",
       "      <td>0.700120</td>\n",
       "      <td>0.149219</td>\n",
       "      <td>0.022291</td>\n",
       "    </tr>\n",
       "    <tr>\n",
       "      <th>diastolic b_pressure</th>\n",
       "      <td>0.015523</td>\n",
       "      <td>0.014267</td>\n",
       "      <td>0.700120</td>\n",
       "      <td>1.000000</td>\n",
       "      <td>0.096442</td>\n",
       "      <td>0.002026</td>\n",
       "    </tr>\n",
       "    <tr>\n",
       "      <th>pre-meal_b_sugar</th>\n",
       "      <td>-0.024412</td>\n",
       "      <td>-0.023774</td>\n",
       "      <td>0.149219</td>\n",
       "      <td>0.096442</td>\n",
       "      <td>1.000000</td>\n",
       "      <td>0.015561</td>\n",
       "    </tr>\n",
       "    <tr>\n",
       "      <th>vision_diff</th>\n",
       "      <td>0.515084</td>\n",
       "      <td>0.532192</td>\n",
       "      <td>0.022291</td>\n",
       "      <td>0.002026</td>\n",
       "      <td>0.015561</td>\n",
       "      <td>1.000000</td>\n",
       "    </tr>\n",
       "  </tbody>\n",
       "</table>\n",
       "</div>"
      ],
      "text/plain": [
       "                      vision_left  vision_right  systolic_b_pressure  \\\n",
       "vision_left              1.000000      0.281132            -0.031905   \n",
       "vision_right             0.281132      1.000000            -0.030420   \n",
       "systolic_b_pressure     -0.031905     -0.030420             1.000000   \n",
       "diastolic b_pressure     0.015523      0.014267             0.700120   \n",
       "pre-meal_b_sugar        -0.024412     -0.023774             0.149219   \n",
       "vision_diff              0.515084      0.532192             0.022291   \n",
       "\n",
       "                      diastolic b_pressure  pre-meal_b_sugar  vision_diff  \n",
       "vision_left                       0.015523         -0.024412     0.515084  \n",
       "vision_right                      0.014267         -0.023774     0.532192  \n",
       "systolic_b_pressure               0.700120          0.149219     0.022291  \n",
       "diastolic b_pressure              1.000000          0.096442     0.002026  \n",
       "pre-meal_b_sugar                  0.096442          1.000000     0.015561  \n",
       "vision_diff                       0.002026          0.015561     1.000000  "
      ]
     },
     "execution_count": 25,
     "metadata": {},
     "output_type": "execute_result"
    }
   ],
   "source": [
    "df_for_corr.corr(method = 'pearson')"
   ]
  },
  {
   "cell_type": "code",
   "execution_count": 26,
   "id": "bd02950f",
   "metadata": {},
   "outputs": [
    {
     "name": "stderr",
     "output_type": "stream",
     "text": [
      "C:\\Users\\junoh\\anaconda3\\lib\\site-packages\\matplotlib\\backends\\backend_agg.py:240: RuntimeWarning: Glyph 8722 missing from current font.\n",
      "  font.set_text(s, 0.0, flags=flags)\n",
      "C:\\Users\\junoh\\anaconda3\\lib\\site-packages\\matplotlib\\backends\\backend_agg.py:203: RuntimeWarning: Glyph 8722 missing from current font.\n",
      "  font.set_text(s, 0, flags=flags)\n"
     ]
    },
    {
     "data": {
      "text/plain": [
       "<AxesSubplot:>"
      ]
     },
     "execution_count": 26,
     "metadata": {},
     "output_type": "execute_result"
    },
    {
     "data": {
      "image/png": "[encoded data removed]",
      "text/plain": [
       "<Figure size 576x576 with 2 Axes>"
      ]
     },
     "metadata": {},
     "output_type": "display_data"
    }
   ],
   "source": [
    "import seaborn as sb\n",
    "plt.figure(figsize = (8,8))\n",
    "sb.heatmap(df_for_corr.corr(),\n",
    "                    annot = True, \n",
    "                     cmap = 'Greens',\n",
    "                     vmin = -1, vmax = 1)"
   ]
  },
  {
   "cell_type": "markdown",
   "id": "6835717c",
   "metadata": {},
   "source": [
    "- 좌우 시력은 혈압 및 공복혈당 수치와 상관 정도가 매우 낮음"
   ]
  },
  {
   "cell_type": "code",
   "execution_count": null,
   "id": "6051d7b8",
   "metadata": {},
   "outputs": [],
   "source": []
  }
 ],
 "metadata": {
  "kernelspec": {
   "display_name": "Python 3 (ipykernel)",
   "language": "python",
   "name": "python3"
  },
  "language_info": {
   "codemirror_mode": {
    "name": "ipython",
    "version": 3
   },
   "file_extension": ".py",
   "mimetype": "text/x-python",
   "name": "python",
   "nbconvert_exporter": "python",
   "pygments_lexer": "ipython3",
   "version": "3.9.7"
  }
 },
 "nbformat": 4,
 "nbformat_minor": 5
}
